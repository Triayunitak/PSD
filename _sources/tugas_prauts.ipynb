{
 "cells": [
  {
   "cell_type": "markdown",
   "id": "5ed6ada1",
   "metadata": {},
   "source": [
    "# **Penjelasan Tugas Pra-UTS**\n",
    "\n",
    "Tujuan tugas :\n",
    "1. Melakukan pengumpulan data postgresql\n",
    "2. Melakukan analisa data untuk klasifikasi tool knime\n",
    "3. Membangun scripts python untuk analisa data pada knime\n",
    "4. Download Knime https://www.knime.com/downloads\n",
    "5. Download driver postgresql https://jdbc.postgresql.org/. Pastikan sudah terinstall jdk minimun\n",
    "6. Anda telah menginstall python conda/Miniforge minimum 3.9"
   ]
  },
  {
   "cell_type": "markdown",
   "id": "ebd4a1ec",
   "metadata": {},
   "source": [
    "## 1. Meletakkan Nodes PostgreSQL Connector\n",
    "\n",
    "![Awalan](1.png)"
   ]
  },
  {
   "cell_type": "markdown",
   "id": "f090c8f2",
   "metadata": {},
   "source": [
    "### a. Mengisi Dialod PostgreSQL Connector seperti contoh dibawah (Hostname, Port, Database Name, Username & Password)\n",
    "\n",
    "![Detail isi PostgreSQL Connector](2.png)"
   ]
  },
  {
   "cell_type": "markdown",
   "id": "7579f4c9",
   "metadata": {},
   "source": [
    "## 2. Siapkan file pg-JDBC (mendownloadnya melalui link diatas), lalu klik \"Preference\" pada topbar.\n",
    "\n",
    "\n",
    "![Awalan](1.png)"
   ]
  },
  {
   "cell_type": "markdown",
   "id": "3d0d9d16",
   "metadata": {},
   "source": [
    "### a. Di Preference, pilih Knime dan klik \" Databases\"\n",
    "- Isilah dialog Register seperti dibawah (ID, Database Type, Name, Description), untuk URL template akan muncul otomatis setelah memilih Database Type.\n",
    "- Setelah itu klik \"Add File\", pilih file pg-JDBC tadi, lalu \"OK\".\n",
    "- Klik \"Find driver classes\"  \n",
    "\n",
    "![Knime Preference](13.png)\n",
    "\n",
    "- Maka akan muncul seperti dibawah :\n",
    "![Knime Preference](14.png)"
   ]
  },
  {
   "cell_type": "markdown",
   "id": "b82c8e13",
   "metadata": {},
   "source": [
    "## 3. Meletakkan DB Table Selector, posisikan berurut dengan PostgreSQL Connector sehingga rapi strukturnya.\n",
    "Lalu sambungkan PostgreSQL Connector dengan DB Table Selector (Tarik kotak merah untuk menghubungkan).\n",
    "Pastikan statusnya hijau (succes)\n",
    "\n",
    "![Awalan](1.png)"
   ]
  },
  {
   "cell_type": "markdown",
   "id": "f7ecad20",
   "metadata": {},
   "source": [
    "### a. Mengisi dialog DB Table Selector dengan menekan \"Select a Table\"\n",
    "\n",
    "![DB Table Selector](3.png)"
   ]
  },
  {
   "cell_type": "markdown",
   "id": "2b6bd9e7",
   "metadata": {},
   "source": [
    "### b. Klik tanda \"+\" untuk melihat Table yang tersedia pada DB, lalu pilih Tablenya.\n",
    "Klik \"OK\", lalu \"Apply\" dan \"OK\" kembali.\n",
    "![DB Table Selector](4.png)"
   ]
  },
  {
   "cell_type": "markdown",
   "id": "1ba96b57",
   "metadata": {},
   "source": [
    "## 4. Meletakkan DB Reader, lalu sambungkan DB Table Selector ke DB Reader.\n",
    "Pastikan statusnya hijau (Succes)\n",
    "\n",
    "![Awalan](1.png)"
   ]
  },
  {
   "cell_type": "markdown",
   "id": "67bf8901",
   "metadata": {},
   "source": [
    "## 5. Siapkan Miniforge3 dengan mendownloadnya melalui link https://conda-forge.org/download/.\n",
    "- Install filenya, lalu open \"Miniforge Prompt\"\n",
    "- Siapkan commandnya :\n",
    "\n",
    "a. (base) C:\\Windows\\System32>conda create --name tugaspsd python=3.11 pandas scikit-learn psycopg2-binary -y\n",
    "\n",
    "b. (base) C:\\Windows\\System32>conda activate tugaspsd\n",
    "\n",
    "c. (tugaspsd) C:\\Windows\\System32>conda install jupyterlab -y\n",
    "\n",
    "d. (tugaspsd) C:\\Windows\\System32>conda install -c conda-forge matplotlib imbalanced-learn -y\n",
    "\n",
    "### a. Setelah berhasil terbuat environtmentnya, Klik Menu pada Topbar dan pilih Install Extension.\n",
    "\n",
    "![Awalan](1.png)\n"
   ]
  },
  {
   "cell_type": "markdown",
   "id": "63cddf3e",
   "metadata": {},
   "source": [
    "### b. Search Python, lalu centang pilihan seperti dibawah.\n",
    "- Next dan Finish\n",
    "\n",
    "![Awalan](12.png)"
   ]
  },
  {
   "cell_type": "markdown",
   "id": "fba41d3f",
   "metadata": {},
   "source": [
    "### c. Klik Preference pada Topbar. Lalu pilih Python (Legacy)\n",
    "- Pilih python 3 sebagai default\n",
    "- Pilih Manual\n",
    "- Browse hasil install package di miniforge3 tadi, cari python.exe dan add.\n",
    "- Lakukan hal yang sama untuk python 3.\n",
    "\n",
    "![Awalan](15.png)"
   ]
  },
  {
   "cell_type": "markdown",
   "id": "61c5863d",
   "metadata": {},
   "source": [
    "### d. Lakukan hal yang sama pada bagian Python seperti dibawah\n",
    "Lalu Apply and Close\n",
    "\n",
    "![Awalan](16.png)"
   ]
  },
  {
   "cell_type": "markdown",
   "id": "ab9a3030",
   "metadata": {},
   "source": [
    "## 6. Meletakkan Python Script (Legacy), lalu sambungkan DB Reader dengan Python Script (Legacy)\n",
    "\n",
    "![Awalan](1.png)"
   ]
  },
  {
   "cell_type": "markdown",
   "id": "204c0840",
   "metadata": {},
   "source": [
    "### a. Masukkan script untuk : missing values, outlier detection, dan balancing dataset\n",
    "\n",
    "![Awalan](5.png)\n",
    "![Awalan](6.png)\n",
    "![Awalan](7.png)\n",
    "![Awalan](8.png)"
   ]
  },
  {
   "cell_type": "markdown",
   "id": "de260c6c",
   "metadata": {},
   "source": [
    "## 7. HasiL (Output)\n",
    "\n",
    "![Awalan](9.png)\n",
    "![Awalan](10.png)"
   ]
  },
  {
   "cell_type": "markdown",
   "id": "0990c7ee",
   "metadata": {},
   "source": [
    "## 8. Meletakkan Table View, lalu sambungkan Python Script (Legacy) dengan Table View \n",
    "\n",
    "![Awalan](17.png)"
   ]
  }
 ],
 "metadata": {
  "kernelspec": {
   "display_name": ".venv",
   "language": "python",
   "name": "python3"
  },
  "language_info": {
   "name": "python",
   "version": "3.11.9"
  }
 },
 "nbformat": 4,
 "nbformat_minor": 5
}
